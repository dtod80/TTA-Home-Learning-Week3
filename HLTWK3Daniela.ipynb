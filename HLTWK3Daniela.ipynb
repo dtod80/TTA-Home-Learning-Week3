{
 "cells": [
  {
   "cell_type": "markdown",
   "metadata": {},
   "source": [
    "TASK 1"
   ]
  },
  {
   "cell_type": "code",
   "execution_count": 1,
   "metadata": {},
   "outputs": [
    {
     "name": "stdout",
     "output_type": "stream",
     "text": [
      "Welcome to Pizza Daniela!\n",
      "Your total bill is 16\n"
     ]
    }
   ],
   "source": [
    "# this is using Logical Operators - AND\n",
    "print(\"Welcome to Pizza Daniela!\")\n",
    "size = input(\"What size pizza do you want to order? S, L\")\n",
    "add_cheese = input(\"Do you want extra cheese? Y or N\")\n",
    "bill = 0\n",
    "if size == \"S\" and add_cheese == \"Y\":\n",
    "    print(\"Your total bill is \" + str(bill + 15 + 1))\n",
    "elif size == \"S\" and add_cheese == \"N\":\n",
    "    print(\"Your total bill is \" + str(bill + 15))\n",
    "elif size == \"L\" and add_cheese == \"Y\":\n",
    "    print(\"Your total bill is \" + str(bill + 20 + 2))\n",
    "elif size == \"L\" and add_cheese == \"N\":\n",
    "    print(\"Your total bill is \" + str(bill + 20))"
   ]
  },
  {
   "cell_type": "code",
   "execution_count": 2,
   "metadata": {},
   "outputs": [
    {
     "name": "stdout",
     "output_type": "stream",
     "text": [
      "Welcome to Pizza Daniela!\n",
      "Your total bill is 22\n"
     ]
    }
   ],
   "source": [
    "# this is using embed if statements within if statements \n",
    "print(\"Welcome to Pizza Daniela!\")\n",
    "size = input(\"What size pizza do you want to order? S, L\")\n",
    "add_cheese = input(\"Do you want extra cheese? Y or N\")\n",
    "\n",
    "bill = 0\n",
    "if size == \"S\":\n",
    "    bill += 15\n",
    "else:\n",
    "    bill += 20\n",
    "\n",
    "if add_cheese == \"Y\":\n",
    "    if size == \"S\":\n",
    "        bill += 1\n",
    "    else:\n",
    "        bill += 2\n",
    "\n",
    "print(\"Your total bill is \" + str(bill))"
   ]
  },
  {
   "cell_type": "markdown",
   "metadata": {},
   "source": [
    "TASK 2"
   ]
  },
  {
   "cell_type": "code",
   "execution_count": 12,
   "metadata": {},
   "outputs": [
    {
     "name": "stdout",
     "output_type": "stream",
     "text": [
      "The value of the motorbike is: £ 2000 in year 2022 .\n",
      "The value of the motorbike is: £ 1800 in year 2023 .\n",
      "The value of the motorbike is: £ 1620 in year 2024 .\n",
      "The value of the motorbike is: £ 1458 in year 2025 .\n",
      "The value of the motorbike is: £ 1312 in year 2026 .\n",
      "The value of the motorbike is: £ 1180 in year 2027 .\n",
      "The value of the motorbike is: £ 1062 in year 2028 .\n"
     ]
    }
   ],
   "source": [
    "motorbike_value = 2000\n",
    "lose_every_year = 2022\n",
    "\n",
    "def function_1(motorbike_value, lose_every_year):\n",
    "    while motorbike_value > 1000:\n",
    "        print(\"The value of the motorbike is:\", \"£\", int(motorbike_value) , \"in year\" ,lose_every_year,\".\")\n",
    "        motorbike_value -= (10*motorbike_value)/100\n",
    "        lose_every_year = lose_every_year + 1\n",
    "        \n",
    "        #return (motorbike_value)\n",
    "        \n",
    "output = function_1(motorbike_value, lose_every_year)"
   ]
  },
  {
   "cell_type": "markdown",
   "metadata": {},
   "source": [
    "TASK 3"
   ]
  },
  {
   "cell_type": "code",
   "execution_count": 4,
   "metadata": {},
   "outputs": [
    {
     "name": "stdout",
     "output_type": "stream",
     "text": [
      "The result is 3.0\n"
     ]
    }
   ],
   "source": [
    "first_number = int(input (\"Give me a number of your choice.\"))\n",
    "second_number = int(input (\"Give me second number of your choice.\"))\n",
    "operation = input (\"Enter +, -, *, /, **, if you want to do an operation.\")\n",
    "\n",
    "def procedure_1(first_number, second_number):\n",
    "    if operation == \"+\":\n",
    "        print(\"The result is\", first_number + second_number)\n",
    "    elif operation == \"-\":\n",
    "        print(\"The result is\", first_number - second_number)\n",
    "    elif operation == \"*\":\n",
    "        print(\"The result is\", first_number * second_number)\n",
    "    elif operation == \"/\":\n",
    "        print(\"The result is\", first_number / second_number)\n",
    "    elif operation == \"**\":\n",
    "        print(\"The result is\", first_number ** second_number)\n",
    "    else:\n",
    "        print(\"Sorry, but your operation is not definite.\")\n",
    "\n",
    "procedure_1 (first_number, second_number)\n"
   ]
  }
 ],
 "metadata": {
  "interpreter": {
   "hash": "aee8b7b246df8f9039afb4144a1f6fd8d2ca17a180786b69acc140d282b71a49"
  },
  "kernelspec": {
   "display_name": "Python 3.10.2 64-bit",
   "language": "python",
   "name": "python3"
  },
  "language_info": {
   "codemirror_mode": {
    "name": "ipython",
    "version": 3
   },
   "file_extension": ".py",
   "mimetype": "text/x-python",
   "name": "python",
   "nbconvert_exporter": "python",
   "pygments_lexer": "ipython3",
   "version": "3.10.2"
  },
  "orig_nbformat": 4
 },
 "nbformat": 4,
 "nbformat_minor": 2
}
